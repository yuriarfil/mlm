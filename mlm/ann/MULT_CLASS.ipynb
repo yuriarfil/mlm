{
  "nbformat": 4,
  "nbformat_minor": 0,
  "metadata": {
    "colab": {
      "provenance": []
    },
    "kernelspec": {
      "name": "python3",
      "display_name": "Python 3"
    },
    "language_info": {
      "name": "python"
    }
  },
  "cells": [
    {
      "cell_type": "code",
      "execution_count": null,
      "metadata": {
        "colab": {
          "base_uri": "https://localhost:8080/"
        },
        "id": "NaDduYQMquLk",
        "outputId": "74258d31-9257-4043-9921-b1b358892742"
      },
      "outputs": [
        {
          "output_type": "stream",
          "name": "stdout",
          "text": [
            "2.12.0\n"
          ]
        }
      ],
      "source": [
        "# Multi-class Classification (wheat seeds)\n",
        "# https://archive-beta.ics.uci.edu/datasets?search=seeds\n",
        "# import module\n",
        "import pandas as pd\n",
        "import tensorflow as tf\n",
        "from tensorflow import keras\n",
        "from sklearn.model_selection import train_test_split\n",
        "from sklearn.preprocessing import MinMaxScaler\n",
        "from sklearn.preprocessing import LabelEncoder\n",
        "from sklearn.metrics import confusion_matrix\n",
        "from keras.utils import np_utils\n",
        "import matplotlib.pyplot as plt\n",
        "import seaborn as sns\n",
        "\n",
        "print(tf.__version__)"
      ]
    },
    {
      "cell_type": "code",
      "source": [
        "# load dataset\n",
        "df = pd.read_csv('/content/drive/MyDrive/MULT-CLASS/seeds_dataset.csv')"
      ],
      "metadata": {
        "id": "nmeG9WOysluQ"
      },
      "execution_count": null,
      "outputs": []
    },
    {
      "cell_type": "code",
      "source": [
        "# return the first n rows\n",
        "df.head(n=5)"
      ],
      "metadata": {
        "colab": {
          "base_uri": "https://localhost:8080/",
          "height": 270
        },
        "id": "zr5SkUF7ss0Y",
        "outputId": "517aecd8-91e3-419b-c6f5-d0bee534702a"
      },
      "execution_count": null,
      "outputs": [
        {
          "output_type": "execute_result",
          "data": {
            "text/plain": [
              "   ID   area  perimeter  compactness  lengthOfKernel  widthOfKernel  \\\n",
              "0   1  15.26      14.84       0.8710           5.763          3.312   \n",
              "1   2  14.88      14.57       0.8811           5.554          3.333   \n",
              "2   3  14.29      14.09       0.9050           5.291          3.337   \n",
              "3   4  13.84      13.94       0.8955           5.324          3.379   \n",
              "4   5  16.14      14.99       0.9034           5.658          3.562   \n",
              "\n",
              "   asymmetryCoefficient  lengthOfKernelGroove  seedType  \n",
              "0                 2.221                 5.220         1  \n",
              "1                 1.018                 4.956         1  \n",
              "2                 2.699                 4.825         1  \n",
              "3                 2.259                 4.805         1  \n",
              "4                 1.355                 5.175         1  "
            ],
            "text/html": [
              "\n",
              "  <div id=\"df-f6d51815-fa43-40a2-948d-6f2e6443f7b6\">\n",
              "    <div class=\"colab-df-container\">\n",
              "      <div>\n",
              "<style scoped>\n",
              "    .dataframe tbody tr th:only-of-type {\n",
              "        vertical-align: middle;\n",
              "    }\n",
              "\n",
              "    .dataframe tbody tr th {\n",
              "        vertical-align: top;\n",
              "    }\n",
              "\n",
              "    .dataframe thead th {\n",
              "        text-align: right;\n",
              "    }\n",
              "</style>\n",
              "<table border=\"1\" class=\"dataframe\">\n",
              "  <thead>\n",
              "    <tr style=\"text-align: right;\">\n",
              "      <th></th>\n",
              "      <th>ID</th>\n",
              "      <th>area</th>\n",
              "      <th>perimeter</th>\n",
              "      <th>compactness</th>\n",
              "      <th>lengthOfKernel</th>\n",
              "      <th>widthOfKernel</th>\n",
              "      <th>asymmetryCoefficient</th>\n",
              "      <th>lengthOfKernelGroove</th>\n",
              "      <th>seedType</th>\n",
              "    </tr>\n",
              "  </thead>\n",
              "  <tbody>\n",
              "    <tr>\n",
              "      <th>0</th>\n",
              "      <td>1</td>\n",
              "      <td>15.26</td>\n",
              "      <td>14.84</td>\n",
              "      <td>0.8710</td>\n",
              "      <td>5.763</td>\n",
              "      <td>3.312</td>\n",
              "      <td>2.221</td>\n",
              "      <td>5.220</td>\n",
              "      <td>1</td>\n",
              "    </tr>\n",
              "    <tr>\n",
              "      <th>1</th>\n",
              "      <td>2</td>\n",
              "      <td>14.88</td>\n",
              "      <td>14.57</td>\n",
              "      <td>0.8811</td>\n",
              "      <td>5.554</td>\n",
              "      <td>3.333</td>\n",
              "      <td>1.018</td>\n",
              "      <td>4.956</td>\n",
              "      <td>1</td>\n",
              "    </tr>\n",
              "    <tr>\n",
              "      <th>2</th>\n",
              "      <td>3</td>\n",
              "      <td>14.29</td>\n",
              "      <td>14.09</td>\n",
              "      <td>0.9050</td>\n",
              "      <td>5.291</td>\n",
              "      <td>3.337</td>\n",
              "      <td>2.699</td>\n",
              "      <td>4.825</td>\n",
              "      <td>1</td>\n",
              "    </tr>\n",
              "    <tr>\n",
              "      <th>3</th>\n",
              "      <td>4</td>\n",
              "      <td>13.84</td>\n",
              "      <td>13.94</td>\n",
              "      <td>0.8955</td>\n",
              "      <td>5.324</td>\n",
              "      <td>3.379</td>\n",
              "      <td>2.259</td>\n",
              "      <td>4.805</td>\n",
              "      <td>1</td>\n",
              "    </tr>\n",
              "    <tr>\n",
              "      <th>4</th>\n",
              "      <td>5</td>\n",
              "      <td>16.14</td>\n",
              "      <td>14.99</td>\n",
              "      <td>0.9034</td>\n",
              "      <td>5.658</td>\n",
              "      <td>3.562</td>\n",
              "      <td>1.355</td>\n",
              "      <td>5.175</td>\n",
              "      <td>1</td>\n",
              "    </tr>\n",
              "  </tbody>\n",
              "</table>\n",
              "</div>\n",
              "      <button class=\"colab-df-convert\" onclick=\"convertToInteractive('df-f6d51815-fa43-40a2-948d-6f2e6443f7b6')\"\n",
              "              title=\"Convert this dataframe to an interactive table.\"\n",
              "              style=\"display:none;\">\n",
              "        \n",
              "  <svg xmlns=\"http://www.w3.org/2000/svg\" height=\"24px\"viewBox=\"0 0 24 24\"\n",
              "       width=\"24px\">\n",
              "    <path d=\"M0 0h24v24H0V0z\" fill=\"none\"/>\n",
              "    <path d=\"M18.56 5.44l.94 2.06.94-2.06 2.06-.94-2.06-.94-.94-2.06-.94 2.06-2.06.94zm-11 1L8.5 8.5l.94-2.06 2.06-.94-2.06-.94L8.5 2.5l-.94 2.06-2.06.94zm10 10l.94 2.06.94-2.06 2.06-.94-2.06-.94-.94-2.06-.94 2.06-2.06.94z\"/><path d=\"M17.41 7.96l-1.37-1.37c-.4-.4-.92-.59-1.43-.59-.52 0-1.04.2-1.43.59L10.3 9.45l-7.72 7.72c-.78.78-.78 2.05 0 2.83L4 21.41c.39.39.9.59 1.41.59.51 0 1.02-.2 1.41-.59l7.78-7.78 2.81-2.81c.8-.78.8-2.07 0-2.86zM5.41 20L4 18.59l7.72-7.72 1.47 1.35L5.41 20z\"/>\n",
              "  </svg>\n",
              "      </button>\n",
              "      \n",
              "  <style>\n",
              "    .colab-df-container {\n",
              "      display:flex;\n",
              "      flex-wrap:wrap;\n",
              "      gap: 12px;\n",
              "    }\n",
              "\n",
              "    .colab-df-convert {\n",
              "      background-color: #E8F0FE;\n",
              "      border: none;\n",
              "      border-radius: 50%;\n",
              "      cursor: pointer;\n",
              "      display: none;\n",
              "      fill: #1967D2;\n",
              "      height: 32px;\n",
              "      padding: 0 0 0 0;\n",
              "      width: 32px;\n",
              "    }\n",
              "\n",
              "    .colab-df-convert:hover {\n",
              "      background-color: #E2EBFA;\n",
              "      box-shadow: 0px 1px 2px rgba(60, 64, 67, 0.3), 0px 1px 3px 1px rgba(60, 64, 67, 0.15);\n",
              "      fill: #174EA6;\n",
              "    }\n",
              "\n",
              "    [theme=dark] .colab-df-convert {\n",
              "      background-color: #3B4455;\n",
              "      fill: #D2E3FC;\n",
              "    }\n",
              "\n",
              "    [theme=dark] .colab-df-convert:hover {\n",
              "      background-color: #434B5C;\n",
              "      box-shadow: 0px 1px 3px 1px rgba(0, 0, 0, 0.15);\n",
              "      filter: drop-shadow(0px 1px 2px rgba(0, 0, 0, 0.3));\n",
              "      fill: #FFFFFF;\n",
              "    }\n",
              "  </style>\n",
              "\n",
              "      <script>\n",
              "        const buttonEl =\n",
              "          document.querySelector('#df-f6d51815-fa43-40a2-948d-6f2e6443f7b6 button.colab-df-convert');\n",
              "        buttonEl.style.display =\n",
              "          google.colab.kernel.accessAllowed ? 'block' : 'none';\n",
              "\n",
              "        async function convertToInteractive(key) {\n",
              "          const element = document.querySelector('#df-f6d51815-fa43-40a2-948d-6f2e6443f7b6');\n",
              "          const dataTable =\n",
              "            await google.colab.kernel.invokeFunction('convertToInteractive',\n",
              "                                                     [key], {});\n",
              "          if (!dataTable) return;\n",
              "\n",
              "          const docLinkHtml = 'Like what you see? Visit the ' +\n",
              "            '<a target=\"_blank\" href=https://colab.research.google.com/notebooks/data_table.ipynb>data table notebook</a>'\n",
              "            + ' to learn more about interactive tables.';\n",
              "          element.innerHTML = '';\n",
              "          dataTable['output_type'] = 'display_data';\n",
              "          await google.colab.output.renderOutput(dataTable, element);\n",
              "          const docLink = document.createElement('div');\n",
              "          docLink.innerHTML = docLinkHtml;\n",
              "          element.appendChild(docLink);\n",
              "        }\n",
              "      </script>\n",
              "    </div>\n",
              "  </div>\n",
              "  "
            ]
          },
          "metadata": {},
          "execution_count": 171
        }
      ]
    },
    {
      "cell_type": "code",
      "source": [
        "# Check nulls value\n",
        "df.isnull().sum()"
      ],
      "metadata": {
        "colab": {
          "base_uri": "https://localhost:8080/"
        },
        "id": "c_IzQUyftHgR",
        "outputId": "29f4ca55-85d8-45d0-eeab-bb3f25c11a68"
      },
      "execution_count": null,
      "outputs": [
        {
          "output_type": "execute_result",
          "data": {
            "text/plain": [
              "ID                      0\n",
              "area                    0\n",
              "perimeter               0\n",
              "compactness             0\n",
              "lengthOfKernel          0\n",
              "widthOfKernel           0\n",
              "asymmetryCoefficient    0\n",
              "lengthOfKernelGroove    0\n",
              "seedType                0\n",
              "dtype: int64"
            ]
          },
          "metadata": {},
          "execution_count": 172
        }
      ]
    },
    {
      "cell_type": "code",
      "source": [
        "# check the Distribution Target in Dataset\n",
        "diagnosis_values = df['seedType'].value_counts()\n",
        "print('categories of (diagnosis) --- \\n', diagnosis_values)\n",
        "print('**'*40)"
      ],
      "metadata": {
        "colab": {
          "base_uri": "https://localhost:8080/"
        },
        "id": "rJuegX65tIEH",
        "outputId": "2dc40ad0-04b4-4742-e409-115296336b05"
      },
      "execution_count": null,
      "outputs": [
        {
          "output_type": "stream",
          "name": "stdout",
          "text": [
            "categories of (diagnosis) --- \n",
            " 1    70\n",
            "2    70\n",
            "3    70\n",
            "Name: seedType, dtype: int64\n",
            "********************************************************************************\n"
          ]
        }
      ]
    },
    {
      "cell_type": "code",
      "source": [
        "# create output\n",
        "df = df.drop('ID', axis=1)"
      ],
      "metadata": {
        "id": "GD-DC5pByUCm"
      },
      "execution_count": null,
      "outputs": []
    },
    {
      "cell_type": "code",
      "source": [
        "# return the first n rows\n",
        "df.head(n=5)"
      ],
      "metadata": {
        "colab": {
          "base_uri": "https://localhost:8080/",
          "height": 270
        },
        "id": "z9FiHLpzzbZ7",
        "outputId": "723d3ffa-3947-4b5c-f3ab-5b5af5d34505"
      },
      "execution_count": null,
      "outputs": [
        {
          "output_type": "execute_result",
          "data": {
            "text/plain": [
              "    area  perimeter  compactness  lengthOfKernel  widthOfKernel  \\\n",
              "0  15.26      14.84       0.8710           5.763          3.312   \n",
              "1  14.88      14.57       0.8811           5.554          3.333   \n",
              "2  14.29      14.09       0.9050           5.291          3.337   \n",
              "3  13.84      13.94       0.8955           5.324          3.379   \n",
              "4  16.14      14.99       0.9034           5.658          3.562   \n",
              "\n",
              "   asymmetryCoefficient  lengthOfKernelGroove  seedType  \n",
              "0                 2.221                 5.220         1  \n",
              "1                 1.018                 4.956         1  \n",
              "2                 2.699                 4.825         1  \n",
              "3                 2.259                 4.805         1  \n",
              "4                 1.355                 5.175         1  "
            ],
            "text/html": [
              "\n",
              "  <div id=\"df-648427ce-4d8c-42c3-a13d-7180af1ac26b\">\n",
              "    <div class=\"colab-df-container\">\n",
              "      <div>\n",
              "<style scoped>\n",
              "    .dataframe tbody tr th:only-of-type {\n",
              "        vertical-align: middle;\n",
              "    }\n",
              "\n",
              "    .dataframe tbody tr th {\n",
              "        vertical-align: top;\n",
              "    }\n",
              "\n",
              "    .dataframe thead th {\n",
              "        text-align: right;\n",
              "    }\n",
              "</style>\n",
              "<table border=\"1\" class=\"dataframe\">\n",
              "  <thead>\n",
              "    <tr style=\"text-align: right;\">\n",
              "      <th></th>\n",
              "      <th>area</th>\n",
              "      <th>perimeter</th>\n",
              "      <th>compactness</th>\n",
              "      <th>lengthOfKernel</th>\n",
              "      <th>widthOfKernel</th>\n",
              "      <th>asymmetryCoefficient</th>\n",
              "      <th>lengthOfKernelGroove</th>\n",
              "      <th>seedType</th>\n",
              "    </tr>\n",
              "  </thead>\n",
              "  <tbody>\n",
              "    <tr>\n",
              "      <th>0</th>\n",
              "      <td>15.26</td>\n",
              "      <td>14.84</td>\n",
              "      <td>0.8710</td>\n",
              "      <td>5.763</td>\n",
              "      <td>3.312</td>\n",
              "      <td>2.221</td>\n",
              "      <td>5.220</td>\n",
              "      <td>1</td>\n",
              "    </tr>\n",
              "    <tr>\n",
              "      <th>1</th>\n",
              "      <td>14.88</td>\n",
              "      <td>14.57</td>\n",
              "      <td>0.8811</td>\n",
              "      <td>5.554</td>\n",
              "      <td>3.333</td>\n",
              "      <td>1.018</td>\n",
              "      <td>4.956</td>\n",
              "      <td>1</td>\n",
              "    </tr>\n",
              "    <tr>\n",
              "      <th>2</th>\n",
              "      <td>14.29</td>\n",
              "      <td>14.09</td>\n",
              "      <td>0.9050</td>\n",
              "      <td>5.291</td>\n",
              "      <td>3.337</td>\n",
              "      <td>2.699</td>\n",
              "      <td>4.825</td>\n",
              "      <td>1</td>\n",
              "    </tr>\n",
              "    <tr>\n",
              "      <th>3</th>\n",
              "      <td>13.84</td>\n",
              "      <td>13.94</td>\n",
              "      <td>0.8955</td>\n",
              "      <td>5.324</td>\n",
              "      <td>3.379</td>\n",
              "      <td>2.259</td>\n",
              "      <td>4.805</td>\n",
              "      <td>1</td>\n",
              "    </tr>\n",
              "    <tr>\n",
              "      <th>4</th>\n",
              "      <td>16.14</td>\n",
              "      <td>14.99</td>\n",
              "      <td>0.9034</td>\n",
              "      <td>5.658</td>\n",
              "      <td>3.562</td>\n",
              "      <td>1.355</td>\n",
              "      <td>5.175</td>\n",
              "      <td>1</td>\n",
              "    </tr>\n",
              "  </tbody>\n",
              "</table>\n",
              "</div>\n",
              "      <button class=\"colab-df-convert\" onclick=\"convertToInteractive('df-648427ce-4d8c-42c3-a13d-7180af1ac26b')\"\n",
              "              title=\"Convert this dataframe to an interactive table.\"\n",
              "              style=\"display:none;\">\n",
              "        \n",
              "  <svg xmlns=\"http://www.w3.org/2000/svg\" height=\"24px\"viewBox=\"0 0 24 24\"\n",
              "       width=\"24px\">\n",
              "    <path d=\"M0 0h24v24H0V0z\" fill=\"none\"/>\n",
              "    <path d=\"M18.56 5.44l.94 2.06.94-2.06 2.06-.94-2.06-.94-.94-2.06-.94 2.06-2.06.94zm-11 1L8.5 8.5l.94-2.06 2.06-.94-2.06-.94L8.5 2.5l-.94 2.06-2.06.94zm10 10l.94 2.06.94-2.06 2.06-.94-2.06-.94-.94-2.06-.94 2.06-2.06.94z\"/><path d=\"M17.41 7.96l-1.37-1.37c-.4-.4-.92-.59-1.43-.59-.52 0-1.04.2-1.43.59L10.3 9.45l-7.72 7.72c-.78.78-.78 2.05 0 2.83L4 21.41c.39.39.9.59 1.41.59.51 0 1.02-.2 1.41-.59l7.78-7.78 2.81-2.81c.8-.78.8-2.07 0-2.86zM5.41 20L4 18.59l7.72-7.72 1.47 1.35L5.41 20z\"/>\n",
              "  </svg>\n",
              "      </button>\n",
              "      \n",
              "  <style>\n",
              "    .colab-df-container {\n",
              "      display:flex;\n",
              "      flex-wrap:wrap;\n",
              "      gap: 12px;\n",
              "    }\n",
              "\n",
              "    .colab-df-convert {\n",
              "      background-color: #E8F0FE;\n",
              "      border: none;\n",
              "      border-radius: 50%;\n",
              "      cursor: pointer;\n",
              "      display: none;\n",
              "      fill: #1967D2;\n",
              "      height: 32px;\n",
              "      padding: 0 0 0 0;\n",
              "      width: 32px;\n",
              "    }\n",
              "\n",
              "    .colab-df-convert:hover {\n",
              "      background-color: #E2EBFA;\n",
              "      box-shadow: 0px 1px 2px rgba(60, 64, 67, 0.3), 0px 1px 3px 1px rgba(60, 64, 67, 0.15);\n",
              "      fill: #174EA6;\n",
              "    }\n",
              "\n",
              "    [theme=dark] .colab-df-convert {\n",
              "      background-color: #3B4455;\n",
              "      fill: #D2E3FC;\n",
              "    }\n",
              "\n",
              "    [theme=dark] .colab-df-convert:hover {\n",
              "      background-color: #434B5C;\n",
              "      box-shadow: 0px 1px 3px 1px rgba(0, 0, 0, 0.15);\n",
              "      filter: drop-shadow(0px 1px 2px rgba(0, 0, 0, 0.3));\n",
              "      fill: #FFFFFF;\n",
              "    }\n",
              "  </style>\n",
              "\n",
              "      <script>\n",
              "        const buttonEl =\n",
              "          document.querySelector('#df-648427ce-4d8c-42c3-a13d-7180af1ac26b button.colab-df-convert');\n",
              "        buttonEl.style.display =\n",
              "          google.colab.kernel.accessAllowed ? 'block' : 'none';\n",
              "\n",
              "        async function convertToInteractive(key) {\n",
              "          const element = document.querySelector('#df-648427ce-4d8c-42c3-a13d-7180af1ac26b');\n",
              "          const dataTable =\n",
              "            await google.colab.kernel.invokeFunction('convertToInteractive',\n",
              "                                                     [key], {});\n",
              "          if (!dataTable) return;\n",
              "\n",
              "          const docLinkHtml = 'Like what you see? Visit the ' +\n",
              "            '<a target=\"_blank\" href=https://colab.research.google.com/notebooks/data_table.ipynb>data table notebook</a>'\n",
              "            + ' to learn more about interactive tables.';\n",
              "          element.innerHTML = '';\n",
              "          dataTable['output_type'] = 'display_data';\n",
              "          await google.colab.output.renderOutput(dataTable, element);\n",
              "          const docLink = document.createElement('div');\n",
              "          docLink.innerHTML = docLinkHtml;\n",
              "          element.appendChild(docLink);\n",
              "        }\n",
              "      </script>\n",
              "    </div>\n",
              "  </div>\n",
              "  "
            ]
          },
          "metadata": {},
          "execution_count": 175
        }
      ]
    },
    {
      "cell_type": "code",
      "source": [
        "# split into output (Y) variables\n",
        "dataset = df.values\n",
        "Y = dataset[:,7].astype('float32')\n",
        "print(Y)"
      ],
      "metadata": {
        "colab": {
          "base_uri": "https://localhost:8080/"
        },
        "id": "aG3ilg2Px6T2",
        "outputId": "be7fdf5c-fbb1-498f-b5c6-b1842fe128d9"
      },
      "execution_count": null,
      "outputs": [
        {
          "output_type": "stream",
          "name": "stdout",
          "text": [
            "[1. 1. 1. 1. 1. 1. 1. 1. 1. 1. 1. 1. 1. 1. 1. 1. 1. 1. 1. 1. 1. 1. 1. 1.\n",
            " 1. 1. 1. 1. 1. 1. 1. 1. 1. 1. 1. 1. 1. 1. 1. 1. 1. 1. 1. 1. 1. 1. 1. 1.\n",
            " 1. 1. 1. 1. 1. 1. 1. 1. 1. 1. 1. 1. 1. 1. 1. 1. 1. 1. 1. 1. 1. 1. 2. 2.\n",
            " 2. 2. 2. 2. 2. 2. 2. 2. 2. 2. 2. 2. 2. 2. 2. 2. 2. 2. 2. 2. 2. 2. 2. 2.\n",
            " 2. 2. 2. 2. 2. 2. 2. 2. 2. 2. 2. 2. 2. 2. 2. 2. 2. 2. 2. 2. 2. 2. 2. 2.\n",
            " 2. 2. 2. 2. 2. 2. 2. 2. 2. 2. 2. 2. 2. 2. 2. 2. 2. 2. 2. 2. 3. 3. 3. 3.\n",
            " 3. 3. 3. 3. 3. 3. 3. 3. 3. 3. 3. 3. 3. 3. 3. 3. 3. 3. 3. 3. 3. 3. 3. 3.\n",
            " 3. 3. 3. 3. 3. 3. 3. 3. 3. 3. 3. 3. 3. 3. 3. 3. 3. 3. 3. 3. 3. 3. 3. 3.\n",
            " 3. 3. 3. 3. 3. 3. 3. 3. 3. 3. 3. 3. 3. 3. 3. 3. 3. 3.]\n"
          ]
        }
      ]
    },
    {
      "cell_type": "code",
      "source": [
        "# encode class values as integers\n",
        "encoder = LabelEncoder()\n",
        "encoder.fit(Y)\n",
        "encoded_Y = encoder.transform(Y)\n",
        "# convert integers to dummy variables (i.e. one hot encoded)\n",
        "ohe_y = np_utils.to_categorical(encoded_Y)"
      ],
      "metadata": {
        "id": "Qzc8j9heUjee"
      },
      "execution_count": null,
      "outputs": []
    },
    {
      "cell_type": "code",
      "source": [
        "print(ohe_y)"
      ],
      "metadata": {
        "id": "u8ovPgMLpPUM"
      },
      "execution_count": null,
      "outputs": []
    },
    {
      "cell_type": "code",
      "source": [
        "# exclude output in data normalization\n",
        "excl = df.loc[:, df.columns != 'seedType'].astype('float32')"
      ],
      "metadata": {
        "id": "adirHcBz9ok_"
      },
      "execution_count": null,
      "outputs": []
    },
    {
      "cell_type": "code",
      "source": [
        "# define min max scaler\n",
        "scaler = MinMaxScaler()\n",
        "# transform data\n",
        "excl = scaler.fit_transform(excl)"
      ],
      "metadata": {
        "id": "Bk6g9TArwVgY"
      },
      "execution_count": null,
      "outputs": []
    },
    {
      "cell_type": "code",
      "source": [
        "print(excl)"
      ],
      "metadata": {
        "colab": {
          "base_uri": "https://localhost:8080/"
        },
        "id": "7lnymGhd-th7",
        "outputId": "155cef97-a26d-4195-ec8f-e85eea628dbb"
      },
      "execution_count": null,
      "outputs": [
        {
          "output_type": "stream",
          "name": "stdout",
          "text": [
            "[[0.44098198 0.50206614 0.57078075 ... 0.48610127 0.18930164 0.34515   ]\n",
            " [0.40509915 0.44628096 0.6624322  ... 0.50106895 0.03288303 0.2151649 ]\n",
            " [0.34938622 0.3471074  0.8793106  ... 0.50391996 0.251453   0.15066457]\n",
            " ...\n",
            " [0.24645889 0.2582643  0.72776794 ... 0.4290806  0.98166656 0.2644019 ]\n",
            " [0.11803591 0.16528916 0.39927435 ... 0.14682806 0.36834443 0.25849342]\n",
            " [0.16147304 0.19214869 0.54718685 ... 0.24518883 0.6334629  0.2678485 ]]\n"
          ]
        }
      ]
    },
    {
      "cell_type": "code",
      "source": [
        "# split into input (X) variables\n",
        "dataset = excl\n",
        "X = dataset\n",
        "\n",
        "X_train, X_test, y_train, y_test = train_test_split(X, ohe_y, test_size=0.1, random_state=0)"
      ],
      "metadata": {
        "id": "6RAfQKbhtXpY"
      },
      "execution_count": null,
      "outputs": []
    },
    {
      "cell_type": "code",
      "source": [
        "# create model\n",
        "model = keras.Sequential([\n",
        "  keras.layers.Flatten(input_shape=(7,)),\n",
        "  keras.layers.Dense(128, activation='relu', kernel_initializer='HeUniform'),\n",
        "  keras.layers.Dropout(0.1),\n",
        "\t#keras.layers.Dense(3, activation='relu', kernel_initializer='HeUniform'),\n",
        "  #keras.layers.Dropout(0.1),\n",
        "  keras.layers.Dense(3, activation='softmax', kernel_initializer='GlorotUniform'),\n",
        "])\n",
        "print(model.summary())"
      ],
      "metadata": {
        "colab": {
          "base_uri": "https://localhost:8080/"
        },
        "id": "OOJYRLs4UBYL",
        "outputId": "b15cf7c1-50b9-48e1-cc7c-e843ed25bc0f"
      },
      "execution_count": null,
      "outputs": [
        {
          "output_type": "stream",
          "name": "stdout",
          "text": [
            "Model: \"sequential_7\"\n",
            "_________________________________________________________________\n",
            " Layer (type)                Output Shape              Param #   \n",
            "=================================================================\n",
            " flatten_7 (Flatten)         (None, 7)                 0         \n",
            "                                                                 \n",
            " dense_19 (Dense)            (None, 128)               1024      \n",
            "                                                                 \n",
            " dropout_2 (Dropout)         (None, 128)               0         \n",
            "                                                                 \n",
            " dense_20 (Dense)            (None, 3)                 387       \n",
            "                                                                 \n",
            "=================================================================\n",
            "Total params: 1,411\n",
            "Trainable params: 1,411\n",
            "Non-trainable params: 0\n",
            "_________________________________________________________________\n",
            "None\n"
          ]
        }
      ]
    },
    {
      "cell_type": "code",
      "source": [
        "# compile model\n",
        "model.compile(optimizer='adam',\n",
        "              loss='categorical_crossentropy',\n",
        "              metrics=['accuracy'])"
      ],
      "metadata": {
        "id": "GRxtsju9XYkV"
      },
      "execution_count": null,
      "outputs": []
    },
    {
      "cell_type": "code",
      "source": [
        "# start training\n",
        "history = model.fit(X_train, y_train, epochs=500, batch_size=21, \n",
        "                    callbacks=[\n",
        "        tf.keras.callbacks.EarlyStopping(\n",
        "            monitor='loss',\n",
        "            patience=5,\n",
        "            restore_best_weights=True\n",
        "        )\n",
        "    ])\n",
        "test_loss, test_acc = model.evaluate(X_test, y_test)\n",
        "\n",
        "print('Test accuracy:', test_acc)"
      ],
      "metadata": {
        "colab": {
          "base_uri": "https://localhost:8080/"
        },
        "id": "PFu7mklBXgYz",
        "outputId": "00abe989-065b-401e-f3d5-4bf82b3bbcc7"
      },
      "execution_count": null,
      "outputs": [
        {
          "output_type": "stream",
          "name": "stdout",
          "text": [
            "Epoch 1/500\n",
            "9/9 [==============================] - 1s 4ms/step - loss: 1.1878 - accuracy: 0.3968\n",
            "Epoch 2/500\n",
            "9/9 [==============================] - 0s 3ms/step - loss: 0.9724 - accuracy: 0.5661\n",
            "Epoch 3/500\n",
            "9/9 [==============================] - 0s 2ms/step - loss: 0.8908 - accuracy: 0.5820\n",
            "Epoch 4/500\n",
            "9/9 [==============================] - 0s 2ms/step - loss: 0.8196 - accuracy: 0.6772\n",
            "Epoch 5/500\n",
            "9/9 [==============================] - 0s 3ms/step - loss: 0.7596 - accuracy: 0.7460\n",
            "Epoch 6/500\n",
            "9/9 [==============================] - 0s 2ms/step - loss: 0.7197 - accuracy: 0.7884\n",
            "Epoch 7/500\n",
            "9/9 [==============================] - 0s 3ms/step - loss: 0.6754 - accuracy: 0.8254\n",
            "Epoch 8/500\n",
            "9/9 [==============================] - 0s 2ms/step - loss: 0.6251 - accuracy: 0.8571\n",
            "Epoch 9/500\n",
            "9/9 [==============================] - 0s 3ms/step - loss: 0.5973 - accuracy: 0.8307\n",
            "Epoch 10/500\n",
            "9/9 [==============================] - 0s 3ms/step - loss: 0.5458 - accuracy: 0.8624\n",
            "Epoch 11/500\n",
            "9/9 [==============================] - 0s 3ms/step - loss: 0.5089 - accuracy: 0.8995\n",
            "Epoch 12/500\n",
            "9/9 [==============================] - 0s 3ms/step - loss: 0.4944 - accuracy: 0.8730\n",
            "Epoch 13/500\n",
            "9/9 [==============================] - 0s 3ms/step - loss: 0.4734 - accuracy: 0.8783\n",
            "Epoch 14/500\n",
            "9/9 [==============================] - 0s 2ms/step - loss: 0.4418 - accuracy: 0.9048\n",
            "Epoch 15/500\n",
            "9/9 [==============================] - 0s 3ms/step - loss: 0.4205 - accuracy: 0.8889\n",
            "Epoch 16/500\n",
            "9/9 [==============================] - 0s 3ms/step - loss: 0.4033 - accuracy: 0.8995\n",
            "Epoch 17/500\n",
            "9/9 [==============================] - 0s 3ms/step - loss: 0.3703 - accuracy: 0.9101\n",
            "Epoch 18/500\n",
            "9/9 [==============================] - 0s 3ms/step - loss: 0.3772 - accuracy: 0.8889\n",
            "Epoch 19/500\n",
            "9/9 [==============================] - 0s 3ms/step - loss: 0.3444 - accuracy: 0.9048\n",
            "Epoch 20/500\n",
            "9/9 [==============================] - 0s 3ms/step - loss: 0.3516 - accuracy: 0.8942\n",
            "Epoch 21/500\n",
            "9/9 [==============================] - 0s 3ms/step - loss: 0.3477 - accuracy: 0.8995\n",
            "Epoch 22/500\n",
            "9/9 [==============================] - 0s 2ms/step - loss: 0.3305 - accuracy: 0.8995\n",
            "Epoch 23/500\n",
            "9/9 [==============================] - 0s 2ms/step - loss: 0.3223 - accuracy: 0.8995\n",
            "Epoch 24/500\n",
            "9/9 [==============================] - 0s 3ms/step - loss: 0.3217 - accuracy: 0.8995\n",
            "Epoch 25/500\n",
            "9/9 [==============================] - 0s 3ms/step - loss: 0.3089 - accuracy: 0.9153\n",
            "Epoch 26/500\n",
            "9/9 [==============================] - 0s 3ms/step - loss: 0.2922 - accuracy: 0.9101\n",
            "Epoch 27/500\n",
            "9/9 [==============================] - 0s 2ms/step - loss: 0.2937 - accuracy: 0.9048\n",
            "Epoch 28/500\n",
            "9/9 [==============================] - 0s 3ms/step - loss: 0.2843 - accuracy: 0.8995\n",
            "Epoch 29/500\n",
            "9/9 [==============================] - 0s 3ms/step - loss: 0.2715 - accuracy: 0.9206\n",
            "Epoch 30/500\n",
            "9/9 [==============================] - 0s 3ms/step - loss: 0.2809 - accuracy: 0.9048\n",
            "Epoch 31/500\n",
            "9/9 [==============================] - 0s 2ms/step - loss: 0.2752 - accuracy: 0.9153\n",
            "Epoch 32/500\n",
            "9/9 [==============================] - 0s 3ms/step - loss: 0.2705 - accuracy: 0.9101\n",
            "Epoch 33/500\n",
            "9/9 [==============================] - 0s 3ms/step - loss: 0.2584 - accuracy: 0.9101\n",
            "Epoch 34/500\n",
            "9/9 [==============================] - 0s 2ms/step - loss: 0.2706 - accuracy: 0.9048\n",
            "Epoch 35/500\n",
            "9/9 [==============================] - 0s 3ms/step - loss: 0.2558 - accuracy: 0.8995\n",
            "Epoch 36/500\n",
            "9/9 [==============================] - 0s 2ms/step - loss: 0.2417 - accuracy: 0.9101\n",
            "Epoch 37/500\n",
            "9/9 [==============================] - 0s 2ms/step - loss: 0.2567 - accuracy: 0.9101\n",
            "Epoch 38/500\n",
            "9/9 [==============================] - 0s 2ms/step - loss: 0.2567 - accuracy: 0.9101\n",
            "Epoch 39/500\n",
            "9/9 [==============================] - 0s 3ms/step - loss: 0.2511 - accuracy: 0.9101\n",
            "Epoch 40/500\n",
            "9/9 [==============================] - 0s 3ms/step - loss: 0.2419 - accuracy: 0.9101\n",
            "Epoch 41/500\n",
            "9/9 [==============================] - 0s 3ms/step - loss: 0.2344 - accuracy: 0.9259\n",
            "Epoch 42/500\n",
            "9/9 [==============================] - 0s 3ms/step - loss: 0.2217 - accuracy: 0.9312\n",
            "Epoch 43/500\n",
            "9/9 [==============================] - 0s 3ms/step - loss: 0.2185 - accuracy: 0.9153\n",
            "Epoch 44/500\n",
            "9/9 [==============================] - 0s 4ms/step - loss: 0.2302 - accuracy: 0.9206\n",
            "Epoch 45/500\n",
            "9/9 [==============================] - 0s 3ms/step - loss: 0.2170 - accuracy: 0.9153\n",
            "Epoch 46/500\n",
            "9/9 [==============================] - 0s 3ms/step - loss: 0.2247 - accuracy: 0.9153\n",
            "Epoch 47/500\n",
            "9/9 [==============================] - 0s 3ms/step - loss: 0.2247 - accuracy: 0.9101\n",
            "Epoch 48/500\n",
            "9/9 [==============================] - 0s 3ms/step - loss: 0.2156 - accuracy: 0.9153\n",
            "Epoch 49/500\n",
            "9/9 [==============================] - 0s 3ms/step - loss: 0.2057 - accuracy: 0.9259\n",
            "Epoch 50/500\n",
            "9/9 [==============================] - 0s 3ms/step - loss: 0.2151 - accuracy: 0.9153\n",
            "Epoch 51/500\n",
            "9/9 [==============================] - 0s 2ms/step - loss: 0.2083 - accuracy: 0.9101\n",
            "Epoch 52/500\n",
            "9/9 [==============================] - 0s 2ms/step - loss: 0.2156 - accuracy: 0.9365\n",
            "Epoch 53/500\n",
            "9/9 [==============================] - 0s 3ms/step - loss: 0.2023 - accuracy: 0.9365\n",
            "Epoch 54/500\n",
            "9/9 [==============================] - 0s 4ms/step - loss: 0.2029 - accuracy: 0.9153\n",
            "Epoch 55/500\n",
            "9/9 [==============================] - 0s 3ms/step - loss: 0.1944 - accuracy: 0.9259\n",
            "Epoch 56/500\n",
            "9/9 [==============================] - 0s 3ms/step - loss: 0.2108 - accuracy: 0.9206\n",
            "Epoch 57/500\n",
            "9/9 [==============================] - 0s 3ms/step - loss: 0.2043 - accuracy: 0.9259\n",
            "Epoch 58/500\n",
            "9/9 [==============================] - 0s 3ms/step - loss: 0.2044 - accuracy: 0.9259\n",
            "Epoch 59/500\n",
            "9/9 [==============================] - 0s 3ms/step - loss: 0.1965 - accuracy: 0.9259\n",
            "Epoch 60/500\n",
            "9/9 [==============================] - 0s 3ms/step - loss: 0.1884 - accuracy: 0.9153\n",
            "Epoch 61/500\n",
            "9/9 [==============================] - 0s 3ms/step - loss: 0.1914 - accuracy: 0.9259\n",
            "Epoch 62/500\n",
            "9/9 [==============================] - 0s 3ms/step - loss: 0.1918 - accuracy: 0.9418\n",
            "Epoch 63/500\n",
            "9/9 [==============================] - 0s 4ms/step - loss: 0.1978 - accuracy: 0.9259\n",
            "Epoch 64/500\n",
            "9/9 [==============================] - 0s 3ms/step - loss: 0.1881 - accuracy: 0.9259\n",
            "Epoch 65/500\n",
            "9/9 [==============================] - 0s 3ms/step - loss: 0.1966 - accuracy: 0.9312\n",
            "Epoch 66/500\n",
            "9/9 [==============================] - 0s 3ms/step - loss: 0.2030 - accuracy: 0.9312\n",
            "Epoch 67/500\n",
            "9/9 [==============================] - 0s 3ms/step - loss: 0.1712 - accuracy: 0.9418\n",
            "Epoch 68/500\n",
            "9/9 [==============================] - 0s 3ms/step - loss: 0.1993 - accuracy: 0.9259\n",
            "Epoch 69/500\n",
            "9/9 [==============================] - 0s 3ms/step - loss: 0.1870 - accuracy: 0.9312\n",
            "Epoch 70/500\n",
            "9/9 [==============================] - 0s 3ms/step - loss: 0.1904 - accuracy: 0.9312\n",
            "Epoch 71/500\n",
            "9/9 [==============================] - 0s 3ms/step - loss: 0.1900 - accuracy: 0.9312\n",
            "Epoch 72/500\n",
            "9/9 [==============================] - 0s 3ms/step - loss: 0.1804 - accuracy: 0.9365\n",
            "1/1 [==============================] - 0s 166ms/step - loss: 0.0977 - accuracy: 1.0000\n",
            "Test accuracy: 1.0\n"
          ]
        }
      ]
    },
    {
      "cell_type": "code",
      "source": [
        "pd.DataFrame(history.history)[['accuracy', 'loss']].plot()\n",
        "plt.title(\"Accu VS Loss\")\n",
        "plt.show()"
      ],
      "metadata": {
        "id": "yMSlWidahYEk",
        "colab": {
          "base_uri": "https://localhost:8080/",
          "height": 452
        },
        "outputId": "0f96fa34-d01b-4b4f-eabd-32f5c7cf86c9"
      },
      "execution_count": null,
      "outputs": [
        {
          "output_type": "display_data",
          "data": {
            "text/plain": [
              "<Figure size 640x480 with 1 Axes>"
            ],
            "image/png": "[encoded data removed]"
          },
          "metadata": {}
        }
      ]
    },
    {
      "cell_type": "code",
      "source": [
        "# Predict on the test set and calculate confusion matrix\n",
        "pred = model.predict(X_test)\n",
        "cm = confusion_matrix(y_test.argmax(axis=1), pred.argmax(axis=1))\n",
        "\n",
        "# Plot the confusion matrix using seaborn heatmap\n",
        "sns.heatmap(cm, annot=True)"
      ],
      "metadata": {
        "colab": {
          "base_uri": "https://localhost:8080/",
          "height": 471
        },
        "id": "kTrcE4gqqjlt",
        "outputId": "880f1ce1-ef0e-4623-902c-a3c6639b8311"
      },
      "execution_count": null,
      "outputs": [
        {
          "output_type": "stream",
          "name": "stdout",
          "text": [
            "1/1 [==============================] - 0s 59ms/step\n"
          ]
        },
        {
          "output_type": "execute_result",
          "data": {
            "text/plain": [
              "<Axes: >"
            ]
          },
          "metadata": {},
          "execution_count": 186
        },
        {
          "output_type": "display_data",
          "data": {
            "text/plain": [
              "<Figure size 640x480 with 2 Axes>"
            ],
            "image/png": "[encoded data removed]"
          },
          "metadata": {}
        }
      ]
    },
    {
      "cell_type": "code",
      "source": [
        "# Save the entire model to a HDF5 file.\n",
        "# The '.h5' extension indicates that the model should be saved to HDF5.\n",
        "model.save('MULT_CLASS.h5')"
      ],
      "metadata": {
        "id": "gb2ULc3tL6Z4"
      },
      "execution_count": null,
      "outputs": []
    }
  ]
}